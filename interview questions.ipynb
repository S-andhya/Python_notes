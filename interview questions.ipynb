{
 "cells": [
  {
   "cell_type": "markdown",
   "metadata": {},
   "source": [
    "## Split method (reversing the words)\n",
    "Input :'my.name.is.sandhya'\n",
    "\n",
    "Output :'sandhya.is.name.my'"
   ]
  },
  {
   "cell_type": "code",
   "execution_count": 10,
   "metadata": {},
   "outputs": [
    {
     "data": {
      "text/plain": [
       "'sandhya.is.name.my'"
      ]
     },
     "execution_count": 10,
     "metadata": {},
     "output_type": "execute_result"
    }
   ],
   "source": [
    "string ='my.name.is.sandhya'\n",
    "stri=string.split('.')\n",
    "rev =stri[::-1]\n",
    "joi ='.'.join(rev)\n",
    "joi\n",
    "#string"
   ]
  },
  {
   "cell_type": "markdown",
   "metadata": {},
   "source": [
    "### A = '25+26+7+1'\n",
    "Find the average of numbers in above string."
   ]
  },
  {
   "cell_type": "code",
   "execution_count": 25,
   "metadata": {},
   "outputs": [
    {
     "data": {
      "text/plain": [
       "['25', '26', '7', '1']"
      ]
     },
     "execution_count": 25,
     "metadata": {},
     "output_type": "execute_result"
    }
   ],
   "source": [
    "\n",
    "A = '25+26+7+1'\n",
    "spli= A.split('+')\n",
    "spli\n"
   ]
  },
  {
   "cell_type": "code",
   "execution_count": 27,
   "metadata": {},
   "outputs": [
    {
     "data": {
      "text/plain": [
       "14.75"
      ]
     },
     "execution_count": 27,
     "metadata": {},
     "output_type": "execute_result"
    }
   ],
   "source": [
    "summ =0\n",
    "for i in spli:\n",
    "    #print(i)\n",
    "    summ =summ+int(i)\n",
    "average =summ/len(spli)\n",
    "average"
   ]
  },
  {
   "cell_type": "markdown",
   "metadata": {},
   "source": [
    "## A = '25.0+26.0+7+1'"
   ]
  },
  {
   "cell_type": "code",
   "execution_count": 33,
   "metadata": {},
   "outputs": [
    {
     "data": {
      "text/plain": [
       "['25.0', '26.0', '7', '1']"
      ]
     },
     "execution_count": 33,
     "metadata": {},
     "output_type": "execute_result"
    }
   ],
   "source": [
    "A = '25.0+26.0+7+1'\n",
    "spli= A.split('+')\n",
    "spli"
   ]
  },
  {
   "cell_type": "code",
   "execution_count": 35,
   "metadata": {},
   "outputs": [
    {
     "data": {
      "text/plain": [
       "14.75"
      ]
     },
     "execution_count": 35,
     "metadata": {},
     "output_type": "execute_result"
    }
   ],
   "source": [
    "summ =0\n",
    "for i in spli:\n",
    "    #print(float(i))\n",
    "    summ =summ+float(i)\n",
    "average =summ/len(spli)\n",
    "average"
   ]
  },
  {
   "cell_type": "markdown",
   "metadata": {},
   "source": [
    "## Find the missing number from the list if the range is given from 1 to 10:"
   ]
  },
  {
   "cell_type": "code",
   "execution_count": 36,
   "metadata": {},
   "outputs": [
    {
     "name": "stdout",
     "output_type": "stream",
     "text": [
      "1\n",
      "2\n",
      "3\n",
      "4\n",
      "5\n",
      "7\n"
     ]
    }
   ],
   "source": [
    "Gopal = [6,8,9,10]\n",
    "for i in range (1,11):\n",
    "    if i not in Gopal:\n",
    "        print(i)"
   ]
  },
  {
   "cell_type": "markdown",
   "metadata": {},
   "source": [
    "## Find which year is leap and which not between 2020 to 2026\n"
   ]
  },
  {
   "cell_type": "code",
   "execution_count": 37,
   "metadata": {},
   "outputs": [
    {
     "name": "stdout",
     "output_type": "stream",
     "text": [
      "year is leap year 2020\n",
      "year is not leap year 2021\n",
      "year is not leap year 2022\n",
      "year is not leap year 2023\n",
      "year is leap year 2024\n",
      "year is not leap year 2025\n",
      "year is not leap year 2026\n"
     ]
    }
   ],
   "source": [
    "# leap_year=366\n",
    "# n_leap_year=365\n",
    "for i in range(2020,2027):\n",
    "    if i%4==0:\n",
    "        print('year is leap year',i)\n",
    "    else:\n",
    "        print('year is not leap year',i)"
   ]
  },
  {
   "cell_type": "markdown",
   "metadata": {},
   "source": [
    "## Find the total sum of days between 2020 to 2026"
   ]
  },
  {
   "cell_type": "code",
   "execution_count": 40,
   "metadata": {},
   "outputs": [
    {
     "name": "stdout",
     "output_type": "stream",
     "text": [
      "2557\n"
     ]
    }
   ],
   "source": [
    "summ =0\n",
    "for i in range(2020,2027):\n",
    "    if i%4==0:\n",
    "        summ =summ+366\n",
    "    else:\n",
    "        summ =summ+365\n",
    "print(summ)"
   ]
  },
  {
   "cell_type": "markdown",
   "metadata": {},
   "source": [
    "## Find the length of duplicate elements.\n",
    "Sandy = 'I am good girl I am very good girl I love Europe I love Japan'"
   ]
  },
  {
   "cell_type": "code",
   "execution_count": 46,
   "metadata": {},
   "outputs": [],
   "source": [
    "Sandy = 'I am good girl I am very good girl I love Europe I love Japan'\n",
    "sandy=Sandy.split(' ')\n",
    "length = len(sandy)-len(set(sandy))"
   ]
  },
  {
   "cell_type": "code",
   "execution_count": 47,
   "metadata": {},
   "outputs": [
    {
     "data": {
      "text/plain": [
       "7"
      ]
     },
     "execution_count": 47,
     "metadata": {},
     "output_type": "execute_result"
    }
   ],
   "source": [
    "length"
   ]
  },
  {
   "cell_type": "markdown",
   "metadata": {},
   "source": [
    "## Write a Python program to swap first and last element of the list.\n",
    "Input : [12, 35, 9, 56, 24]\n",
    "\n",
    "Output : [24, 35, 9, 56, 12]"
   ]
  },
  {
   "cell_type": "code",
   "execution_count": 76,
   "metadata": {},
   "outputs": [],
   "source": [
    "Input= [12, 35, 9, 56, 24]\n"
   ]
  },
  {
   "cell_type": "code",
   "execution_count": 79,
   "metadata": {},
   "outputs": [],
   "source": [
    "Input[0],Input[-1]=Input[-1],Input[0]\n",
    "#Input[-1]=Input[0]"
   ]
  },
  {
   "cell_type": "code",
   "execution_count": 80,
   "metadata": {},
   "outputs": [
    {
     "data": {
      "text/plain": [
       "[24, 35, 9, 56, 12]"
      ]
     },
     "execution_count": 80,
     "metadata": {},
     "output_type": "execute_result"
    }
   ],
   "source": [
    "Input"
   ]
  },
  {
   "cell_type": "code",
   "execution_count": 81,
   "metadata": {},
   "outputs": [
    {
     "name": "stdout",
     "output_type": "stream",
     "text": [
      "24\n",
      "12\n"
     ]
    }
   ],
   "source": [
    "## Extracting first and last elements using list comprehension\n",
    "for i in (0,-1):\n",
    "    print(Input[i])"
   ]
  },
  {
   "cell_type": "markdown",
   "metadata": {},
   "source": [
    "### Input : [['x', 'y'], ['a', 'b'], ['m', 'n']]\n",
    "\n",
    "### Output : [['x', 'a', 'm'], ['y', 'b', 'n']]"
   ]
  },
  {
   "cell_type": "code",
   "execution_count": 87,
   "metadata": {},
   "outputs": [
    {
     "name": "stdout",
     "output_type": "stream",
     "text": [
      "['x', 'a', 'm']\n",
      "['y', 'b', 'n']\n"
     ]
    }
   ],
   "source": [
    "lis = [['x', 'y'], ['a', 'b'], ['m', 'n']]\n",
    "for i in list(zip(*lis)):\n",
    "    print(list(i))"
   ]
  },
  {
   "cell_type": "code",
   "execution_count": 91,
   "metadata": {},
   "outputs": [
    {
     "data": {
      "text/plain": [
       "[(['x', 'y'],), (['a', 'b'],), (['m', 'n'],)]"
      ]
     },
     "execution_count": 91,
     "metadata": {},
     "output_type": "execute_result"
    }
   ],
   "source": [
    "list(zip(lis))"
   ]
  },
  {
   "cell_type": "code",
   "execution_count": 92,
   "metadata": {},
   "outputs": [
    {
     "data": {
      "text/plain": [
       "[('x', 'a', 'm'), ('y', 'b', 'n')]"
      ]
     },
     "execution_count": 92,
     "metadata": {},
     "output_type": "execute_result"
    }
   ],
   "source": [
    "list(zip(*lis))"
   ]
  },
  {
   "cell_type": "markdown",
   "metadata": {},
   "source": [
    "## Python Program to check if a string is a palindrome or not."
   ]
  },
  {
   "cell_type": "code",
   "execution_count": 6,
   "metadata": {},
   "outputs": [
    {
     "name": "stdout",
     "output_type": "stream",
     "text": [
      "Enter a string amaama\n",
      "string is palindrome\n"
     ]
    }
   ],
   "source": [
    "string = input('Enter a string ')\n",
    "if string == string[::-1]:\n",
    "    print('string is palindrome')\n",
    "else:\n",
    "    print('string is not a palindrome')"
   ]
  },
  {
   "cell_type": "code",
   "execution_count": 3,
   "metadata": {},
   "outputs": [],
   "source": [
    "list = [4,5,6,6,77,7]"
   ]
  },
  {
   "cell_type": "code",
   "execution_count": 5,
   "metadata": {},
   "outputs": [
    {
     "data": {
      "text/plain": [
       "[7, 77, 6, 6, 5, 4]"
      ]
     },
     "execution_count": 5,
     "metadata": {},
     "output_type": "execute_result"
    }
   ],
   "source": [
    "list[::-1]"
   ]
  },
  {
   "cell_type": "markdown",
   "metadata": {},
   "source": [
    "## Reverse words in a given String in Python\n",
    "\n",
    "Input : str = geeks quiz practice code\n",
    "\n",
    "Output : str = code practice quiz geeks"
   ]
  },
  {
   "cell_type": "code",
   "execution_count": 18,
   "metadata": {},
   "outputs": [
    {
     "data": {
      "text/plain": [
       "'code practice quiz geeks'"
      ]
     },
     "execution_count": 18,
     "metadata": {},
     "output_type": "execute_result"
    }
   ],
   "source": [
    "string = 'geeks quiz practice code'\n",
    "split_string =string.split(' ')\n",
    "reverse_string =split_string[::-1]\n",
    "join_reverse_string = ' '.join(reverse_string)\n",
    "join_reverse_string"
   ]
  },
  {
   "cell_type": "code",
   "execution_count": 15,
   "metadata": {},
   "outputs": [],
   "source": [
    "OR \n",
    "def reversed_sentence(string):\n",
    "    split_string =string.split(' ')\n",
    "    join_reverse_string = ' '.join(reverse_string)\n",
    "    return join_reverse_string"
   ]
  },
  {
   "cell_type": "code",
   "execution_count": 16,
   "metadata": {},
   "outputs": [
    {
     "data": {
      "text/plain": [
       "'code practice quiz geeks'"
      ]
     },
     "execution_count": 16,
     "metadata": {},
     "output_type": "execute_result"
    }
   ],
   "source": [
    "reversed_sentence(string)"
   ]
  },
  {
   "cell_type": "markdown",
   "metadata": {},
   "source": [
    "## Length of a string"
   ]
  },
  {
   "cell_type": "code",
   "execution_count": 23,
   "metadata": {},
   "outputs": [
    {
     "data": {
      "text/plain": [
       "5"
      ]
     },
     "execution_count": 23,
     "metadata": {},
     "output_type": "execute_result"
    }
   ],
   "source": [
    "string = 'a,b,c'\n",
    "len(string)"
   ]
  },
  {
   "cell_type": "code",
   "execution_count": 26,
   "metadata": {},
   "outputs": [],
   "source": [
    "#OR \n",
    "def counter(string):\n",
    "    counter = 0\n",
    "    for i in string:\n",
    "        counter +=1\n",
    "    return counter"
   ]
  },
  {
   "cell_type": "code",
   "execution_count": 25,
   "metadata": {},
   "outputs": [
    {
     "data": {
      "text/plain": [
       "5"
      ]
     },
     "execution_count": 25,
     "metadata": {},
     "output_type": "execute_result"
    }
   ],
   "source": [
    "counter(string)"
   ]
  },
  {
   "cell_type": "markdown",
   "metadata": {},
   "source": [
    "## find the average word length in the statement."
   ]
  },
  {
   "cell_type": "code",
   "execution_count": 1,
   "metadata": {},
   "outputs": [],
   "source": [
    "\n",
    "stat=\"my name is ram, i am working here since 2014. My fav symbol is ?\"\n",
    "for i in ',.?':\n",
    "    stat = stat.replace(i,'')"
   ]
  },
  {
   "cell_type": "code",
   "execution_count": 2,
   "metadata": {},
   "outputs": [
    {
     "name": "stdout",
     "output_type": "stream",
     "text": [
      "my name is ram i am working here since 2014 My fav symbol is \n"
     ]
    }
   ],
   "source": [
    "print(stat)"
   ]
  },
  {
   "cell_type": "code",
   "execution_count": 3,
   "metadata": {},
   "outputs": [
    {
     "data": {
      "text/plain": [
       "['my',\n",
       " 'name',\n",
       " 'is',\n",
       " 'ram',\n",
       " 'i',\n",
       " 'am',\n",
       " 'working',\n",
       " 'here',\n",
       " 'since',\n",
       " '2014',\n",
       " 'My',\n",
       " 'fav',\n",
       " 'symbol',\n",
       " 'is']"
      ]
     },
     "execution_count": 3,
     "metadata": {},
     "output_type": "execute_result"
    }
   ],
   "source": [
    "stat_1 =stat.split()\n",
    "stat_1"
   ]
  },
  {
   "cell_type": "code",
   "execution_count": 4,
   "metadata": {},
   "outputs": [
    {
     "data": {
      "text/plain": [
       "14"
      ]
     },
     "execution_count": 4,
     "metadata": {},
     "output_type": "execute_result"
    }
   ],
   "source": [
    "len(stat_1)"
   ]
  },
  {
   "cell_type": "code",
   "execution_count": 5,
   "metadata": {},
   "outputs": [
    {
     "data": {
      "text/plain": [
       "2"
      ]
     },
     "execution_count": 5,
     "metadata": {},
     "output_type": "execute_result"
    }
   ],
   "source": [
    "len(stat_1[0])"
   ]
  },
  {
   "cell_type": "code",
   "execution_count": 8,
   "metadata": {},
   "outputs": [
    {
     "name": "stdout",
     "output_type": "stream",
     "text": [
      "3.36\n"
     ]
    }
   ],
   "source": [
    "summ =0\n",
    "for i in stat_1:\n",
    "    summ = summ+len(i)\n",
    "print(round(summ/len(stat_1),2))"
   ]
  },
  {
   "cell_type": "code",
   "execution_count": 7,
   "metadata": {},
   "outputs": [],
   "source": [
    "# Write the same logic with the help of the function\n",
    "# def average(stat):\n",
    "#     [stat = stat.replace(i,'') for ]"
   ]
  },
  {
   "cell_type": "markdown",
   "metadata": {},
   "source": [
    "## Extract the number from the string"
   ]
  },
  {
   "cell_type": "code",
   "execution_count": 67,
   "metadata": {},
   "outputs": [
    {
     "name": "stdout",
     "output_type": "stream",
     "text": [
      "1 5 4 2 9 1 0 6 3 5 "
     ]
    }
   ],
   "source": [
    "c=\"hhjhsu1ds5sdfd4s2df9ds1s0fiun635\"\n",
    "for i in c:\n",
    "    if i.isnumeric():# logic is if True print(i)\n",
    "        print(i, end=' ')"
   ]
  },
  {
   "cell_type": "markdown",
   "metadata": {},
   "source": [
    "## write a program to rotate the element to the left :\n",
    "    \n",
    "a=[1,2,3,4,5,6,7,8,9,10]\n",
    "\n",
    "b = [5, 6, 7, 8, 9, 10, 1, 2, 3, 4]"
   ]
  },
  {
   "cell_type": "code",
   "execution_count": 94,
   "metadata": {},
   "outputs": [
    {
     "name": "stdout",
     "output_type": "stream",
     "text": [
      "[5, 6, 7, 8, 9, 10, 1, 2, 3, 4]\n"
     ]
    }
   ],
   "source": [
    "a=[1,2,3,4,5,6,7,8,9,10]\n",
    "for i in range(4):\n",
    "    b =a.pop(0)\n",
    "    a.append(b)\n",
    "print(a)\n",
    "    \n",
    "    "
   ]
  },
  {
   "cell_type": "markdown",
   "metadata": {},
   "source": [
    "## According to Gopal's logic."
   ]
  },
  {
   "cell_type": "code",
   "execution_count": null,
   "metadata": {},
   "outputs": [],
   "source": [
    "stat=\"my name is ram, i am working here since 2014. My fav symbol is ?\"\n",
    "\n",
    "def avg(sentence):\n",
    "    for i in \",?./\":\n",
    "        sentence=sentence.replace(i,'')\n",
    "    a=sentence.split()\n",
    "    return round(sum(len(words) for words in a)/len(a),2)\n",
    "\n",
    "avg(stat)"
   ]
  },
  {
   "cell_type": "code",
   "execution_count": null,
   "metadata": {},
   "outputs": [],
   "source": [
    "c=\"hhjhsu1ds5sdfd4s2df9ds1s0fiun635\"\n",
    "d=[]\n",
    "for i in c:\n",
    "    if i.isdigit():\n",
    "        d.append(i)\n",
    "print(\"\".join(d))"
   ]
  },
  {
   "cell_type": "markdown",
   "metadata": {},
   "source": [
    "## Print the table of 3"
   ]
  },
  {
   "cell_type": "code",
   "execution_count": 103,
   "metadata": {},
   "outputs": [
    {
     "name": "stdout",
     "output_type": "stream",
     "text": [
      "3 * 1 = 3\n",
      "3 * 2 = 6\n",
      "3 * 3 = 9\n",
      "3 * 4 = 12\n",
      "3 * 5 = 15\n",
      "3 * 6 = 18\n",
      "3 * 7 = 21\n",
      "3 * 8 = 24\n",
      "3 * 9 = 27\n",
      "3 * 10 = 30\n"
     ]
    }
   ],
   "source": [
    "for i in range(1,11):\n",
    "    print(3,'*',i,'=',3*i)"
   ]
  },
  {
   "cell_type": "markdown",
   "metadata": {},
   "source": [
    "## Print table of 5 defining function"
   ]
  },
  {
   "cell_type": "code",
   "execution_count": 106,
   "metadata": {},
   "outputs": [],
   "source": [
    "def multiple(num):\n",
    "    for i in range(1,11):\n",
    "        print(num,'*',i,'=',num*i)"
   ]
  },
  {
   "cell_type": "code",
   "execution_count": 108,
   "metadata": {},
   "outputs": [
    {
     "name": "stdout",
     "output_type": "stream",
     "text": [
      "6 * 1 = 6\n",
      "6 * 2 = 12\n",
      "6 * 3 = 18\n",
      "6 * 4 = 24\n",
      "6 * 5 = 30\n",
      "6 * 6 = 36\n",
      "6 * 7 = 42\n",
      "6 * 8 = 48\n",
      "6 * 9 = 54\n",
      "6 * 10 = 60\n"
     ]
    }
   ],
   "source": [
    "multiple(6)"
   ]
  },
  {
   "cell_type": "markdown",
   "metadata": {},
   "source": [
    "## factorial of 4"
   ]
  },
  {
   "cell_type": "code",
   "execution_count": 119,
   "metadata": {},
   "outputs": [
    {
     "data": {
      "text/plain": [
       "24"
      ]
     },
     "execution_count": 119,
     "metadata": {},
     "output_type": "execute_result"
    }
   ],
   "source": [
    "fact =1\n",
    "for i in range(4,1,-1):\n",
    "    #print(i)\n",
    "    fact = fact*i\n",
    "fact    "
   ]
  },
  {
   "cell_type": "code",
   "execution_count": 128,
   "metadata": {},
   "outputs": [],
   "source": [
    "\n",
    "def factorial(num):\n",
    "    fact =1\n",
    "    for i in range(num,1,-1):\n",
    "        fact = fact*i\n",
    "    return fact"
   ]
  },
  {
   "cell_type": "code",
   "execution_count": 130,
   "metadata": {},
   "outputs": [
    {
     "data": {
      "text/plain": [
       "720"
      ]
     },
     "execution_count": 130,
     "metadata": {},
     "output_type": "execute_result"
    }
   ],
   "source": [
    "factorial(6)"
   ]
  },
  {
   "cell_type": "markdown",
   "metadata": {},
   "source": [
    "## Find the second highest number from the list\n"
   ]
  },
  {
   "cell_type": "code",
   "execution_count": 1,
   "metadata": {},
   "outputs": [
    {
     "data": {
      "text/plain": [
       "[3, 6, 33, 78, 183, 445]"
      ]
     },
     "execution_count": 1,
     "metadata": {},
     "output_type": "execute_result"
    }
   ],
   "source": [
    "lst =[33,78,183,445,3,6,445]\n",
    "lst =list(set(lst))\n",
    "lst.sort()\n",
    "lst"
   ]
  },
  {
   "cell_type": "code",
   "execution_count": 2,
   "metadata": {},
   "outputs": [
    {
     "data": {
      "text/plain": [
       "183"
      ]
     },
     "execution_count": 2,
     "metadata": {},
     "output_type": "execute_result"
    }
   ],
   "source": [
    "lst.pop(-1)\n",
    "max(lst)\n"
   ]
  },
  {
   "cell_type": "markdown",
   "metadata": {},
   "source": [
    "## string=\"i_am_SanDhya_Iam_veryBeAutiFul\"\n",
    "\n",
    "change _ to . and lower letter to upper and upper to lower\n",
    "\n",
    "\n"
   ]
  },
  {
   "cell_type": "code",
   "execution_count": 21,
   "metadata": {},
   "outputs": [
    {
     "data": {
      "text/plain": [
       "'i.am.SanDhya.Iam.veryBeAutiFul'"
      ]
     },
     "execution_count": 21,
     "metadata": {},
     "output_type": "execute_result"
    }
   ],
   "source": [
    "string=\"i_am_SanDhya_Iam_veryBeAutiFul\"\n",
    "string.split('_')\n",
    "string_join= '.'.join(string.split('_'))\n",
    "string_join"
   ]
  },
  {
   "cell_type": "code",
   "execution_count": 28,
   "metadata": {},
   "outputs": [
    {
     "name": "stdout",
     "output_type": "stream",
     "text": [
      "I.AM.sANdHYA.iAM.VERYbEaUTIfUL\n"
     ]
    }
   ],
   "source": [
    "string_empty=''\n",
    "for char in string_join:\n",
    "    if char.isupper():\n",
    "        string_empty=string_empty+char.lower()\n",
    "        #print(char.lower())\n",
    "    else:\n",
    "        string_empty=string_empty+char.upper()\n",
    "        #print(char.upper())\n",
    "print(string_empty)       \n",
    "        "
   ]
  },
  {
   "cell_type": "markdown",
   "metadata": {},
   "source": [
    "## Find the sum of digits of a number\n",
    "e = 7945"
   ]
  },
  {
   "cell_type": "code",
   "execution_count": 44,
   "metadata": {},
   "outputs": [
    {
     "name": "stdout",
     "output_type": "stream",
     "text": [
      "25\n"
     ]
    }
   ],
   "source": [
    "e = 7945\n",
    "summ =0\n",
    "for i in str(e):\n",
    "    summ =summ+int(i)\n",
    "print(summ)"
   ]
  },
  {
   "cell_type": "markdown",
   "metadata": {},
   "source": [
    "## Python program to print even numbers in a list"
   ]
  },
  {
   "cell_type": "code",
   "execution_count": 47,
   "metadata": {},
   "outputs": [
    {
     "name": "stdout",
     "output_type": "stream",
     "text": [
      "2\n",
      "4\n",
      "6\n",
      "88\n",
      "96\n"
     ]
    }
   ],
   "source": [
    "lst=[1,2,3,4,5,5,77,6,88,96,5,7,9]\n",
    "for i in lst:\n",
    "    if i%2==0:\n",
    "        print(i)\n",
    "        \n"
   ]
  },
  {
   "cell_type": "code",
   "execution_count": 48,
   "metadata": {},
   "outputs": [
    {
     "name": "stdout",
     "output_type": "stream",
     "text": [
      "1\n",
      "3\n",
      "5\n",
      "5\n",
      "77\n",
      "5\n",
      "7\n",
      "9\n"
     ]
    }
   ],
   "source": [
    "for i in lst:# for odd numbers\n",
    "    if i%2!=0:\n",
    "        print(i)"
   ]
  },
  {
   "cell_type": "markdown",
   "metadata": {},
   "source": [
    "## Python program to find Cumulative sum of a list\n",
    "\n",
    "lst=[1,2,3,4,5,6,7,8,9]\n",
    "\n",
    "Ouput : sum of lst_1=[1,3,6,10,15,21,28,36,45]"
   ]
  },
  {
   "cell_type": "code",
   "execution_count": 49,
   "metadata": {},
   "outputs": [],
   "source": [
    "lst=[1,2,3,4,5,6,7,8,9]\n",
    "# to import\n",
    "lst_1=[1,3,6,10,15,21,28,36,45]"
   ]
  },
  {
   "cell_type": "code",
   "execution_count": 51,
   "metadata": {},
   "outputs": [
    {
     "data": {
      "text/plain": [
       "165"
      ]
     },
     "execution_count": 51,
     "metadata": {},
     "output_type": "execute_result"
    }
   ],
   "source": [
    "sum(lst_1)"
   ]
  },
  {
   "cell_type": "code",
   "execution_count": 55,
   "metadata": {},
   "outputs": [
    {
     "name": "stdout",
     "output_type": "stream",
     "text": [
      "[1, 3, 6, 10, 15, 21, 28, 36, 45]\n"
     ]
    }
   ],
   "source": [
    "summ =0\n",
    "lst_1=[]\n",
    "for i in lst:\n",
    "    summ = summ+i\n",
    "    lst_1.append(summ)\n",
    "print(lst_1)\n",
    "    \n"
   ]
  },
  {
   "cell_type": "markdown",
   "metadata": {},
   "source": [
    "## Remove the fruits from lis_2 if they are present in lis_1\n",
    "\n",
    "lis_1 =['apple','banana','orange','pineapple','mango']\n",
    "\n",
    "lis_2=['apple','onion','garlic','mango','banana']"
   ]
  },
  {
   "cell_type": "code",
   "execution_count": 29,
   "metadata": {},
   "outputs": [],
   "source": [
    "lis_1 =['apple','banana','orange','pineapple','mango']\n",
    "lis_2=['apple','onion','garlic','mango','banana']\n"
   ]
  },
  {
   "cell_type": "code",
   "execution_count": 30,
   "metadata": {},
   "outputs": [],
   "source": [
    "for fruits in lis_1:\n",
    "    if fruits in lis_2:\n",
    "        #print(fruits)\n",
    "        lis_2.remove(fruits)\n",
    "    \n",
    "        \n",
    "    \n",
    "    "
   ]
  },
  {
   "cell_type": "code",
   "execution_count": 31,
   "metadata": {},
   "outputs": [
    {
     "name": "stdout",
     "output_type": "stream",
     "text": [
      "['onion', 'garlic']\n"
     ]
    }
   ],
   "source": [
    "print(lis_2)"
   ]
  },
  {
   "cell_type": "markdown",
   "metadata": {},
   "source": [
    "## Transfer fruits from lis_1 to lis_2 until the amount in list2 becomes more or equal to the amount in list1"
   ]
  },
  {
   "cell_type": "code",
   "execution_count": 38,
   "metadata": {},
   "outputs": [],
   "source": [
    "while len(lis_1)>len(lis_2):\n",
    "    var =lis_1.pop()\n",
    "    #if len(lis_2)>=len(lis_1[i]):\n",
    "    lis_2.append(var)"
   ]
  },
  {
   "cell_type": "code",
   "execution_count": 39,
   "metadata": {},
   "outputs": [
    {
     "name": "stdout",
     "output_type": "stream",
     "text": [
      "['onion', 'garlic', 'mango', 'pineapple']\n"
     ]
    }
   ],
   "source": [
    "print(lis_2)"
   ]
  },
  {
   "cell_type": "markdown",
   "metadata": {},
   "source": [
    "## Python program to check if a string is palindrome or not"
   ]
  },
  {
   "cell_type": "code",
   "execution_count": 62,
   "metadata": {},
   "outputs": [
    {
     "name": "stdout",
     "output_type": "stream",
     "text": [
      "string is palindrome\n"
     ]
    }
   ],
   "source": [
    "string='malayalam'\n",
    "string_rev =string[::-1]\n",
    "if string==string_rev:\n",
    "    print('string is palindrome')\n",
    "else:\n",
    "    print('string is not palindrome')\n"
   ]
  },
  {
   "cell_type": "code",
   "execution_count": 61,
   "metadata": {},
   "outputs": [
    {
     "name": "stdout",
     "output_type": "stream",
     "text": [
      "string is not palindrome\n"
     ]
    }
   ],
   "source": [
    "string='sandhya'\n",
    "string_rev =string[::-1]\n",
    "if string==string_rev:\n",
    "    print('string is palindrome')\n",
    "else:\n",
    "    print('string is not palindrome')\n"
   ]
  },
  {
   "cell_type": "markdown",
   "metadata": {},
   "source": [
    "## Python program to accept the strings which contains all vowels"
   ]
  },
  {
   "cell_type": "code",
   "execution_count": 63,
   "metadata": {},
   "outputs": [
    {
     "name": "stdout",
     "output_type": "stream",
     "text": [
      "vowels present a\n",
      "vowels present e\n",
      "vowels present i\n",
      "vowels present o\n",
      "vowels present u\n"
     ]
    }
   ],
   "source": [
    "string ='cauliflower'\n",
    "vowels ='aeiouAEIOU'\n",
    "for i in vowels:\n",
    "    if i in string:\n",
    "        print('vowels present',i)\n",
    "    else:\n",
    "        pass"
   ]
  },
  {
   "cell_type": "code",
   "execution_count": 64,
   "metadata": {},
   "outputs": [
    {
     "name": "stdout",
     "output_type": "stream",
     "text": [
      "vowels present a\n",
      "vowels present e\n"
     ]
    }
   ],
   "source": [
    "string ='elephant'\n",
    "for i in vowels:\n",
    "    if i in string:\n",
    "        print('vowels present',i)\n",
    "    else:\n",
    "        pass"
   ]
  },
  {
   "cell_type": "markdown",
   "metadata": {},
   "source": [
    "## Find words which are greater than given length k=4\n",
    "string ='Our school building is made of bricks'"
   ]
  },
  {
   "cell_type": "code",
   "execution_count": 77,
   "metadata": {},
   "outputs": [
    {
     "name": "stdout",
     "output_type": "stream",
     "text": [
      "school\n",
      "building\n",
      "made\n",
      "bricks\n"
     ]
    }
   ],
   "source": [
    "string ='Our school building is made of bricks'\n",
    "string_spl= string.split()\n",
    "for i in string_spl:\n",
    "    if len(i)>=4:\n",
    "        print(i)\n",
    "    else:\n",
    "        pass"
   ]
  },
  {
   "cell_type": "code",
   "execution_count": 82,
   "metadata": {},
   "outputs": [
    {
     "data": {
      "text/plain": [
       "[True]"
      ]
     },
     "execution_count": 82,
     "metadata": {},
     "output_type": "execute_result"
    }
   ],
   "source": [
    "[len(i)>=4 for i in string.split()]"
   ]
  },
  {
   "cell_type": "markdown",
   "metadata": {},
   "source": [
    "## Remove all duplicates from a given string in Python"
   ]
  },
  {
   "cell_type": "code",
   "execution_count": 79,
   "metadata": {},
   "outputs": [
    {
     "data": {
      "text/plain": [
       "{'e', 'i', 'n', 'o', 'p', 'r', 't'}"
      ]
     },
     "execution_count": 79,
     "metadata": {},
     "output_type": "execute_result"
    }
   ],
   "source": [
    "string ='repetition'\n",
    "set(string)"
   ]
  },
  {
   "cell_type": "markdown",
   "metadata": {},
   "source": [
    "## Program to check if a string contains any special character."
   ]
  },
  {
   "cell_type": "code",
   "execution_count": 83,
   "metadata": {},
   "outputs": [],
   "source": [
    "variable ='@$45ghtjks%&ajagduug'\n",
    "#for i in variable:\n",
    "    #if "
   ]
  },
  {
   "cell_type": "code",
   "execution_count": 99,
   "metadata": {},
   "outputs": [
    {
     "name": "stdout",
     "output_type": "stream",
     "text": [
      "special character found @\n",
      "special character found $\n",
      "string does not contain special characters\n",
      "string does not contain special characters\n",
      "string does not contain special characters\n",
      "string does not contain special characters\n",
      "string does not contain special characters\n",
      "string does not contain special characters\n",
      "string does not contain special characters\n",
      "string does not contain special characters\n",
      "special character found %\n",
      "special character found &\n",
      "string does not contain special characters\n",
      "string does not contain special characters\n",
      "string does not contain special characters\n",
      "string does not contain special characters\n",
      "string does not contain special characters\n",
      "string does not contain special characters\n",
      "string does not contain special characters\n",
      "string does not contain special characters\n"
     ]
    }
   ],
   "source": [
    "for i in variable:\n",
    "    if i in '$%@&':\n",
    "        print('special character found',i)\n",
    "    else:\n",
    "        print('string does not contain special characters')\n",
    "        "
   ]
  },
  {
   "cell_type": "markdown",
   "metadata": {},
   "source": [
    "\n",
    "##  First word should be lower and second should be upper and so on.\n",
    "\n",
    "\"hdsySDGF SanDhYa hduhf JHIUHIUDHJB jJHbb beST\""
   ]
  },
  {
   "cell_type": "code",
   "execution_count": 117,
   "metadata": {},
   "outputs": [
    {
     "data": {
      "text/plain": [
       "['hdsySDGF', 'SanDhYa', 'hduhf', 'JHIUHIUDHJB', 'jJHbb', 'beST']"
      ]
     },
     "execution_count": 117,
     "metadata": {},
     "output_type": "execute_result"
    }
   ],
   "source": [
    "string =\"hdsySDGF SanDhYa hduhf JHIUHIUDHJB jJHbb beST\"\n",
    "string_split =string .split()\n",
    "string_split"
   ]
  },
  {
   "cell_type": "code",
   "execution_count": 112,
   "metadata": {},
   "outputs": [
    {
     "name": "stdout",
     "output_type": "stream",
     "text": [
      "HDSYSDGF\n",
      "HDUHF\n",
      "JJHBB\n"
     ]
    },
    {
     "data": {
      "text/plain": [
       "['HDSYSDGF', 'sandhya', 'HDUHF', 'jhiuhiudhjb', 'JJHBB', 'best']"
      ]
     },
     "execution_count": 112,
     "metadata": {},
     "output_type": "execute_result"
    }
   ],
   "source": [
    "\n",
    "for i,j in enumerate(string_split):\n",
    "    #print(i,j)\n",
    "    if i%2==0:\n",
    "        string_split[i]=j.upper()\n",
    "        print(string_split[i])\n",
    "    else:\n",
    "        string_split[i]=j.lower()\n",
    "         \n",
    "#string_split"
   ]
  },
  {
   "cell_type": "markdown",
   "metadata": {},
   "source": [
    "OR"
   ]
  },
  {
   "cell_type": "code",
   "execution_count": 118,
   "metadata": {},
   "outputs": [],
   "source": [
    "for i in range(0,6,2):\n",
    "    string_split[i]=string_split[i].upper()\n"
   ]
  },
  {
   "cell_type": "code",
   "execution_count": 120,
   "metadata": {},
   "outputs": [],
   "source": [
    "for i in range(1,6,2):\n",
    "    string_split[i]=string_split[i].lower()"
   ]
  },
  {
   "cell_type": "code",
   "execution_count": 121,
   "metadata": {},
   "outputs": [
    {
     "name": "stdout",
     "output_type": "stream",
     "text": [
      "['HDSYSDGF', 'sandhya', 'HDUHF', 'jhiuhiudhjb', 'JJHBB', 'best']\n"
     ]
    }
   ],
   "source": [
    "print(string_split)"
   ]
  },
  {
   "cell_type": "markdown",
   "metadata": {},
   "source": [
    "\n",
    "## list1 = [5, [10, 15, [20, 25, [30, 35], 40], 45], 50]\n",
    "\n",
    "Change the element 35 to 3500\n",
    "OUTput : [5, [10, 15, [20, 25, [30, 3500], 40], 45], 50]"
   ]
  },
  {
   "cell_type": "code",
   "execution_count": 127,
   "metadata": {},
   "outputs": [
    {
     "name": "stdout",
     "output_type": "stream",
     "text": [
      "5\n",
      "[10, 15, [20, 25, [30, 35], 40], 45]\n",
      "50\n"
     ]
    }
   ],
   "source": [
    "list1 = [5, [10, 15, [20, 25, [30, 35], 40], 45], 50]\n",
    "for i in list1:\n",
    "    print(i)"
   ]
  },
  {
   "cell_type": "code",
   "execution_count": 134,
   "metadata": {},
   "outputs": [],
   "source": [
    "list1[1][2][2][1]=3500"
   ]
  },
  {
   "cell_type": "code",
   "execution_count": 135,
   "metadata": {},
   "outputs": [
    {
     "data": {
      "text/plain": [
       "[5, [10, 15, [20, 25, [30, 3500], 40], 45], 50]"
      ]
     },
     "execution_count": 135,
     "metadata": {},
     "output_type": "execute_result"
    }
   ],
   "source": [
    "list1"
   ]
  },
  {
   "cell_type": "markdown",
   "metadata": {},
   "source": [
    "## str = 'My Name is Jessa'\n",
    "\n",
    "### output:  yM emaN si asseJ"
   ]
  },
  {
   "cell_type": "code",
   "execution_count": 166,
   "metadata": {},
   "outputs": [
    {
     "name": "stdout",
     "output_type": "stream",
     "text": [
      "['My', 'Name', 'is', 'Jessa']\n"
     ]
    }
   ],
   "source": [
    "string = 'My Name is Jessa'\n",
    "stri =string.split()\n",
    "print(stri)"
   ]
  },
  {
   "cell_type": "code",
   "execution_count": 172,
   "metadata": {},
   "outputs": [],
   "source": [
    "for i in range(0,4):\n",
    "    stri[i]=stri[i][::-1]"
   ]
  },
  {
   "cell_type": "code",
   "execution_count": 173,
   "metadata": {},
   "outputs": [
    {
     "data": {
      "text/plain": [
       "['yM', 'emaN', 'si', 'asseJ']"
      ]
     },
     "execution_count": 173,
     "metadata": {},
     "output_type": "execute_result"
    }
   ],
   "source": [
    "stri"
   ]
  },
  {
   "cell_type": "markdown",
   "metadata": {},
   "source": [
    "## list1 = [\"M\", \"na\", \"i\", \"Ke\"]\n",
    "\n",
    "## list2 = [\"y\", \"me\", \"s\", \"lly\"]\n",
    "\n",
    "### output: ['My', 'name', 'is', 'Kelly']"
   ]
  },
  {
   "cell_type": "code",
   "execution_count": 183,
   "metadata": {},
   "outputs": [],
   "source": [
    "lis=[]\n",
    "list1 = [\"M\", \"na\", \"i\", \"Ke\"]\n",
    "list2 = [\"y\", \"me\", \"s\", \"lly\"]\n",
    "for i,j in zip(list1,list2):\n",
    "    lis.append(i+j)\n",
    "    \n",
    "# new = zip(list1,list2)\n",
    "# list(new)"
   ]
  },
  {
   "cell_type": "code",
   "execution_count": 184,
   "metadata": {},
   "outputs": [
    {
     "data": {
      "text/plain": [
       "['My', 'name', 'is', 'Kelly']"
      ]
     },
     "execution_count": 184,
     "metadata": {},
     "output_type": "execute_result"
    }
   ],
   "source": [
    "lis"
   ]
  },
  {
   "cell_type": "markdown",
   "metadata": {},
   "source": [
    "## list1 = [10, 20, 30, 40]\n",
    "## list2 = [100, 200, 300, 400]\n",
    "\n",
    "### Output -\n",
    "10 400\n",
    "\n",
    "20 300\n",
    "\n",
    "30 200\n",
    "\n",
    "40 100"
   ]
  },
  {
   "cell_type": "code",
   "execution_count": 187,
   "metadata": {},
   "outputs": [
    {
     "name": "stdout",
     "output_type": "stream",
     "text": [
      "10 400\n",
      "20 300\n",
      "30 200\n",
      "40 100\n"
     ]
    }
   ],
   "source": [
    "list1 = [10, 20, 30, 40]\n",
    "list2 = [100, 200, 300, 400]\n",
    "for i,j in zip(list1,list2[::-1]):\n",
    "    print(i,j)"
   ]
  },
  {
   "cell_type": "markdown",
   "metadata": {},
   "source": [
    "## list1 = [5, 20, 15, 20, 25, 50, 20]\n",
    "### Given a Python list, write a program to remove all occurrences of item 20."
   ]
  },
  {
   "cell_type": "code",
   "execution_count": 198,
   "metadata": {},
   "outputs": [
    {
     "name": "stdout",
     "output_type": "stream",
     "text": [
      "{5, 15, 50, 25}\n"
     ]
    }
   ],
   "source": [
    "list1 = [5, 20, 15, 20, 25, 50, 20]\n",
    "xx =set(list1)\n",
    "xx.remove(20)\n",
    "print(xx)"
   ]
  },
  {
   "cell_type": "code",
   "execution_count": 199,
   "metadata": {},
   "outputs": [],
   "source": [
    "def fun(list1,num):\n",
    "    for i in list1:\n",
    "        if i==num:\n",
    "            list1.remove(i)\n",
    "    return list1"
   ]
  },
  {
   "cell_type": "code",
   "execution_count": 200,
   "metadata": {},
   "outputs": [
    {
     "data": {
      "text/plain": [
       "[5, 15, 25, 50]"
      ]
     },
     "execution_count": 200,
     "metadata": {},
     "output_type": "execute_result"
    }
   ],
   "source": [
    "fun(list1,20)"
   ]
  },
  {
   "cell_type": "code",
   "execution_count": null,
   "metadata": {},
   "outputs": [],
   "source": []
  }
 ],
 "metadata": {
  "kernelspec": {
   "display_name": "Python 3",
   "language": "python",
   "name": "python3"
  },
  "language_info": {
   "codemirror_mode": {
    "name": "ipython",
    "version": 3
   },
   "file_extension": ".py",
   "mimetype": "text/x-python",
   "name": "python",
   "nbconvert_exporter": "python",
   "pygments_lexer": "ipython3",
   "version": "3.7.1"
  }
 },
 "nbformat": 4,
 "nbformat_minor": 2
}
