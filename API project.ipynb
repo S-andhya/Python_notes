{
 "cells": [
  {
   "cell_type": "markdown",
   "metadata": {},
   "source": [
    "# API - Application Programming Interface\n",
    "API is a protocol or bridge to reach from one source/application/medium to another and invoke a function which is written inside that particular system. TO create API there are some frameworks.\n"
   ]
  },
  {
   "cell_type": "code",
   "execution_count": 6,
   "metadata": {},
   "outputs": [],
   "source": [
    "\n",
    "def math_operation_via_flask(operation,num1,num2):\n",
    "    if (operation =='add'):\n",
    "        r =num1+num2\n",
    "        result ='the sum of'+ str(num1)+'and'+str(num2)+'is'+str(r)\n",
    "    if (operation == 'sub'):\n",
    "        r = num1 - num2\n",
    "        result = 'the sub of' + str(num1) + 'and' + str(num2) + 'is' + str(r)\n",
    "    if (operation == 'mul'):\n",
    "        r = num1 * num2\n",
    "        result = 'the mul of' + str(num1) + 'and' + str(num2) + 'is' + str(r)\n",
    "    if (operation == 'div'):\n",
    "        r = num1 / num2\n",
    "        result = 'the div of' + str(num1) + 'and' + str(num2) + 'is' + str(r)\n",
    "    return result"
   ]
  },
  {
   "cell_type": "code",
   "execution_count": 7,
   "metadata": {},
   "outputs": [
    {
     "data": {
      "text/plain": [
       "'the sum of45and67is112'"
      ]
     },
     "execution_count": 7,
     "metadata": {},
     "output_type": "execute_result"
    }
   ],
   "source": [
    "math_operation_via_flask('add',45,67)"
   ]
  },
  {
   "cell_type": "code",
   "execution_count": null,
   "metadata": {},
   "outputs": [],
   "source": []
  }
 ],
 "metadata": {
  "kernelspec": {
   "display_name": "Python 3",
   "language": "python",
   "name": "python3"
  },
  "language_info": {
   "codemirror_mode": {
    "name": "ipython",
    "version": 3
   },
   "file_extension": ".py",
   "mimetype": "text/x-python",
   "name": "python",
   "nbconvert_exporter": "python",
   "pygments_lexer": "ipython3",
   "version": "3.7.1"
  }
 },
 "nbformat": 4,
 "nbformat_minor": 2
}
